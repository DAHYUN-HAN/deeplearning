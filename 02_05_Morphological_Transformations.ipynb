{
  "nbformat": 4,
  "nbformat_minor": 0,
  "metadata": {
    "kernelspec": {
      "name": "python3",
      "display_name": "Python 3"
    },
    "language_info": {
      "codemirror_mode": {
        "name": "ipython",
        "version": 3
      },
      "file_extension": ".py",
      "mimetype": "text/x-python",
      "name": "python",
      "nbconvert_exporter": "python",
      "pygments_lexer": "ipython3",
      "version": "3.7.4"
    },
    "colab": {
      "name": "02-05_Morphological Transformations.ipynb",
      "provenance": []
    }
  },
  "cells": [
    {
      "cell_type": "markdown",
      "metadata": {
        "id": "yLn1jsvNlVtu",
        "colab_type": "text"
      },
      "source": [
        "# Morphological Transformations\n",
        "\n",
        "## Goal\n",
        "In this chapter,\n",
        "* We will learn different morphological operations like Erosion, Dilation, Opening, Closing etc.\n",
        "* We will see different functions like : `cv2.erode()`, `cv2.dilate()`, `cv2.morphologyEx()` etc.\n",
        "침식, 뻥튀기!"
      ]
    },
    {
      "cell_type": "markdown",
      "metadata": {
        "id": "dkIp8ldqlVtv",
        "colab_type": "text"
      },
      "source": [
        "## Theory\n",
        "\n",
        "**Morphological transformations** are some simple operations based on **the image shape**. \n",
        "It is normally performed on binary images. \n",
        "\n",
        "* It needs two inputs, \n",
        "  * one is our **original image**, \n",
        "  * second one is called **structuring element(SE)** or **kernel** \n",
        "    * which decides the nature of operation. \n",
        "\n",
        "Two basic morphological operators are \n",
        "* **Erosion** and \n",
        "* **Dilation**. \n",
        "\n",
        "Then its variant forms like \n",
        "* **Opening**, \n",
        "* **Closing**, \n",
        "* **Gradient** etc also comes into play. \n",
        "\n",
        "We will see them one-by-one with help of following image:"
      ]
    },
    {
      "cell_type": "markdown",
      "metadata": {
        "id": "T-tzkReclVtw",
        "colab_type": "text"
      },
      "source": [
        "![j.png](https://github.com/dsaint31x/OpenCV_Python_Tutorial/blob/master/images/j.png?raw=1)"
      ]
    },
    {
      "cell_type": "markdown",
      "metadata": {
        "id": "tYObZmEElVtx",
        "colab_type": "text"
      },
      "source": [
        "## 1. Erosion\n",
        "\n",
        "The basic idea of erosion is just like soil erosion only, it erodes away the boundaries of foreground object (Always try to keep foreground in white). So what does it do? The kernel slides through the image (as in 2D convolution). A pixel in the original image (either 1 or 0) will be considered 1 only if all the pixels under the kernel is 1, otherwise it is eroded (made to zero).\n",
        "\n",
        "So what happends is that, all the pixels near boundary will be discarded depending upon the size of kernel. So the thickness or size of the foreground object decreases or simply white region decreases in the image. It is useful for removing small white noises (as we have seen in colorspace chapter), detach two connected objects etc.\n",
        "\n",
        "Here, as an example, I would use a 5x5 kernel with full of ones. Let’s see it how it works:"
      ]
    },
    {
      "cell_type": "code",
      "metadata": {
        "id": "ABmRFlH_lVty",
        "colab_type": "code",
        "colab": {
          "base_uri": "https://localhost:8080/",
          "height": 412
        },
        "outputId": "59b6bc9d-8222-489f-b4e7-1e13c360f34e"
      },
      "source": [
        "import cv2\n",
        "import numpy as np\n",
        "import matplotlib.pyplot as plt\n",
        "\n",
        "img = cv2.imread('j.png',0)#0옵션: 그레이스케일\n",
        "\n",
        "kernel = np.ones((5,5),np.uint8)#5*5가 1로 가득찬 상태\n",
        "print(kernel)\n",
        "\n",
        "erosion = cv2.erode(img,kernel,iterations = 1)#iterations=>1번 반복\n",
        "plt.figure(figsize=(10,5))\n",
        "plt.subplot('121')\n",
        "plt.imshow(img,cmap='gray'), plt.axis('off')\n",
        "plt.subplot('122')\n",
        "plt.imshow(erosion,cmap='gray'), plt.axis('off')"
      ],
      "execution_count": 3,
      "outputs": [
        {
          "output_type": "stream",
          "text": [
            "[[1 1 1 1 1]\n",
            " [1 1 1 1 1]\n",
            " [1 1 1 1 1]\n",
            " [1 1 1 1 1]\n",
            " [1 1 1 1 1]]\n"
          ],
          "name": "stdout"
        },
        {
          "output_type": "execute_result",
          "data": {
            "text/plain": [
              "(<matplotlib.image.AxesImage at 0x7f030202c0f0>, (-0.5, 111.5, 149.5, -0.5))"
            ]
          },
          "metadata": {
            "tags": []
          },
          "execution_count": 3
        },
        {
          "output_type": "display_data",
          "data": {
            "image/png": "[encoded data removed]",
            "text/plain": [
              "<Figure size 720x360 with 2 Axes>"
            ]
          },
          "metadata": {
            "tags": []
          }
        }
      ]
    },
    {
      "cell_type": "code",
      "metadata": {
        "id": "-R9_rOBYsKvE",
        "colab_type": "code",
        "colab": {
          "base_uri": "https://localhost:8080/",
          "height": 321
        },
        "outputId": "34689be2-659b-4f32-d6d0-c83554286396"
      },
      "source": [
        "import cv2\n",
        "import numpy as np\n",
        "import matplotlib.pyplot as plt\n",
        "\n",
        "img = cv2.imread('j.png',0)\n",
        "\n",
        "kernel = np.ones((5,5),np.uint8)\n",
        "\n",
        "erosion = cv2.erode(img,kernel,iterations = 1)\n",
        "\n",
        "def erosionfunc(n):\n",
        "  erosionf = cv2.erode(img,kernel,iterations = n)\n",
        "  return erosionf\n",
        "\n",
        "erosion = erosionfunc(2)\n",
        "plt.figure(figsize=(10,5))\n",
        "plt.subplot('221')\n",
        "plt.imshow(img,cmap='gray'), plt.axis('off')\n",
        "plt.subplot('222')\n",
        "plt.imshow(erosion,cmap='gray'), plt.axis('off')\n",
        "\n",
        "erosion = erosionfunc(4)\n",
        "plt.subplot('223')\n",
        "plt.imshow(erosion,cmap='gray'), plt.axis('off')\n",
        "\n",
        "erosion = erosionfunc(6)\n",
        "plt.subplot('224')\n",
        "plt.imshow(erosion,cmap='gray'), plt.axis('off')"
      ],
      "execution_count": 4,
      "outputs": [
        {
          "output_type": "execute_result",
          "data": {
            "text/plain": [
              "(<matplotlib.image.AxesImage at 0x7f0301b27358>, (-0.5, 111.5, 149.5, -0.5))"
            ]
          },
          "metadata": {
            "tags": []
          },
          "execution_count": 4
        },
        {
          "output_type": "display_data",
          "data": {
            "image/png": "[encoded data removed]",
            "text/plain": [
              "<Figure size 720x360 with 4 Axes>"
            ]
          },
          "metadata": {
            "tags": []
          }
        }
      ]
    },
    {
      "cell_type": "markdown",
      "metadata": {
        "id": "j-FWkRPHlVt1",
        "colab_type": "text"
      },
      "source": [
        "## 2. Dilation\n",
        "\n",
        "It is just opposite of erosion. Here, a pixel element is ‘1’ if atleast one pixel under the kernel is ‘1’. So it increases the white region in the image or size of foreground object increases. Normally, in cases like noise removal, erosion is followed by dilation. Because, erosion removes white noises, but it also shrinks our object. So we dilate it. Since noise is gone, they won’t come back, but our object area increases. It is also useful in joining broken parts of an object."
      ]
    },
    {
      "cell_type": "code",
      "metadata": {
        "id": "iNYSd1oMlVt2",
        "colab_type": "code",
        "colab": {
          "base_uri": "https://localhost:8080/",
          "height": 321
        },
        "outputId": "a5e2b68e-6b7f-4284-f4ed-3f5bfbe8c88c"
      },
      "source": [
        "dilation = cv2.dilate(img,kernel,iterations = 1)\n",
        "plt.figure(figsize=(10,5))\n",
        "plt.subplot('121')\n",
        "plt.imshow(img,cmap='gray'), plt.axis('off')\n",
        "plt.subplot('122')\n",
        "plt.imshow(dilation,cmap='gray'), plt.axis('off')"
      ],
      "execution_count": 16,
      "outputs": [
        {
          "output_type": "execute_result",
          "data": {
            "text/plain": [
              "(<matplotlib.image.AxesImage at 0x7f73958022e8>, (-0.5, 111.5, 149.5, -0.5))"
            ]
          },
          "metadata": {
            "tags": []
          },
          "execution_count": 16
        },
        {
          "output_type": "display_data",
          "data": {
            "image/png": "[encoded data removed]",
            "text/plain": [
              "<Figure size 720x360 with 2 Axes>"
            ]
          },
          "metadata": {
            "tags": []
          }
        }
      ]
    },
    {
      "cell_type": "code",
      "metadata": {
        "id": "cLuMF5QdvPzq",
        "colab_type": "code",
        "colab": {
          "base_uri": "https://localhost:8080/",
          "height": 321
        },
        "outputId": "d8589c9e-0925-4053-d93f-be6db2e2e493"
      },
      "source": [
        "dilation = cv2.dilate(img,kernel,iterations = 1)\n",
        "\n",
        "def dilationfunc(n,m):\n",
        "  dilationf = cv2.dilate(img,kernelfunc(m),iterations = n)\n",
        "  return dilationf\n",
        "\n",
        "def kernelfunc(n):\n",
        "  kernelf = np.ones((n,n),np.uint8)\n",
        "  return kernelf\n",
        "\n",
        "plt.figure(figsize=(10,5))\n",
        "plt.subplot('221')\n",
        "plt.imshow(img,cmap='gray'), plt.axis('off')\n",
        "\n",
        "dilation = dilationfunc(1,3)\n",
        "plt.subplot('222')\n",
        "plt.imshow(dilation,cmap='gray'), plt.axis('off')\n",
        "\n",
        "dilation = dilationfunc(1,5)\n",
        "plt.subplot('223')\n",
        "plt.imshow(dilation,cmap='gray'), plt.axis('off')\n",
        "\n",
        "dilation = dilationfunc(1,7)\n",
        "plt.subplot('224')\n",
        "plt.imshow(dilation,cmap='gray'), plt.axis('off')"
      ],
      "execution_count": 5,
      "outputs": [
        {
          "output_type": "execute_result",
          "data": {
            "text/plain": [
              "(<matplotlib.image.AxesImage at 0x7f0301a8a0b8>, (-0.5, 111.5, 149.5, -0.5))"
            ]
          },
          "metadata": {
            "tags": []
          },
          "execution_count": 5
        },
        {
          "output_type": "display_data",
          "data": {
            "image/png": "[encoded data removed]",
            "text/plain": [
              "<Figure size 720x360 with 4 Axes>"
            ]
          },
          "metadata": {
            "tags": []
          }
        }
      ]
    },
    {
      "cell_type": "markdown",
      "metadata": {
        "id": "ayGL-HjElVt4",
        "colab_type": "text"
      },
      "source": [
        "## Opening\n",
        "\n",
        "Opening is just another name of **erosion followed by dilation**. erosion 시킨다음에 dilation 시키는거\n",
        "\n",
        "It is useful in removing noise, as we explained above. Here we use the function, `cv2.morphologyEx()`"
      ]
    },
    {
      "cell_type": "code",
      "metadata": {
        "id": "617cdLVQlVt4",
        "colab_type": "code",
        "colab": {
          "base_uri": "https://localhost:8080/",
          "height": 339
        },
        "outputId": "c0276f3d-a4b1-4d5f-a66d-f659e0300b85"
      },
      "source": [
        "row,col = img.shape\n",
        "s_vs_p = 0.5\n",
        "amount = 0.01\n",
        "out = np.copy(img)\n",
        "# Salt mode\n",
        "num_salt = np.ceil(amount * img.size * s_vs_p)\n",
        "coords = [np.random.randint(0, i, int(num_salt))\n",
        "          for i in img.shape]\n",
        "out[tuple(coords)] = np.max(img)\n",
        "        \n",
        "# Pepper mode\n",
        "num_pepper = np.ceil(amount* img.size * (1. - s_vs_p))\n",
        "coords = [np.random.randint(0, i, int(num_pepper))\n",
        "          for i in img.shape]\n",
        "out[tuple(coords)] = np.min(img)\n",
        "\n",
        "print(img.dtype)\n",
        "# kernel = np.ones((3,3),np.uint8)        \n",
        "opening = cv2.morphologyEx(out, cv2.MORPH_OPEN, kernel)\n",
        "\n",
        "plt.figure(figsize=(10,5))\n",
        "plt.subplot('121')\n",
        "plt.imshow(out,cmap='gray'), plt.axis('off')\n",
        "plt.subplot('122')\n",
        "plt.imshow(opening,cmap='gray'), plt.axis('off')"
      ],
      "execution_count": 35,
      "outputs": [
        {
          "output_type": "stream",
          "text": [
            "uint8\n"
          ],
          "name": "stdout"
        },
        {
          "output_type": "execute_result",
          "data": {
            "text/plain": [
              "(<matplotlib.image.AxesImage at 0x7f0300d376a0>, (-0.5, 111.5, 149.5, -0.5))"
            ]
          },
          "metadata": {
            "tags": []
          },
          "execution_count": 35
        },
        {
          "output_type": "display_data",
          "data": {
            "image/png": "[encoded data removed]",
            "text/plain": [
              "<Figure size 720x360 with 2 Axes>"
            ]
          },
          "metadata": {
            "tags": []
          }
        }
      ]
    },
    {
      "cell_type": "code",
      "metadata": {
        "id": "nRdXxCDYzAZx",
        "colab_type": "code",
        "colab": {
          "base_uri": "https://localhost:8080/",
          "height": 321
        },
        "outputId": "9828218e-b89d-4eb5-9b44-a28359128069"
      },
      "source": [
        "row, col = img.shape\n",
        "s_vs_p = 1 #100% 다 salt, 하얀색 노이즈라는 뜻\n",
        "amount = 0.01\n",
        "out = np.copy(img)\n",
        "\n",
        "num_salt = np.ceil(amount * img.size* s_vs_p)\n",
        "coords = [np.random.randint(0, i, int(num_salt))\n",
        "         for i in img.shape]#img에서 i를 가져온 다음에 랜덤하게 노이즈를 줌.\n",
        "out[tuple(coords)] = np.max(img)#tuple로 묶어서 x, y 좌표화\n",
        "\n",
        "num_pepper = np.ceil(amount*img.size*(1.-s_vs_p))\n",
        "coords = [np.random.randint(0, i, int(num_pepper))\n",
        "         for i in img.shape]#img에서 i를 가져온 다음에 랜덤하게 노이즈를 줌.\n",
        "out[tuple(coords)] = np.min(img)#tuple로 묶어서 x, y 좌표화\n",
        "\n",
        "opening = cv2.morphologyEx(out, cv2.MORPH_OPEN, kernel)\n",
        "\n",
        "plt.figure(figsize=(10,5))\n",
        "plt.subplot('121')\n",
        "plt.imshow(out,cmap='gray'), plt.axis('off')\n",
        "plt.subplot('122')\n",
        "plt.imshow(opening,cmap='gray'), plt.axis('off')"
      ],
      "execution_count": 31,
      "outputs": [
        {
          "output_type": "execute_result",
          "data": {
            "text/plain": [
              "(<matplotlib.image.AxesImage at 0x7f0300f58d30>, (-0.5, 111.5, 149.5, -0.5))"
            ]
          },
          "metadata": {
            "tags": []
          },
          "execution_count": 31
        },
        {
          "output_type": "display_data",
          "data": {
            "image/png": "[encoded data removed]",
            "text/plain": [
              "<Figure size 720x360 with 2 Axes>"
            ]
          },
          "metadata": {
            "tags": []
          }
        }
      ]
    },
    {
      "cell_type": "markdown",
      "metadata": {
        "id": "iXfZDISplVt6",
        "colab_type": "text"
      },
      "source": [
        "## 4. Closing\n",
        "Closing is reverse of Opening, Dilation followed by Erosion. It is useful in closing small holes inside the foreground objects, or small black points on the object"
      ]
    },
    {
      "cell_type": "code",
      "metadata": {
        "id": "2aa0cskFlVt7",
        "colab_type": "code",
        "colab": {},
        "outputId": "35e2d2b6-8c92-46a9-9c11-28240bb43231"
      },
      "source": [
        "row,col = img.shape\n",
        "s_vs_p = 0.0 #1.0\n",
        "amount = 0.01\n",
        "out = np.copy(img)\n",
        "# Salt mode\n",
        "num_salt = np.ceil(amount * img.size * s_vs_p)\n",
        "coords = [np.random.randint(0, i, int(num_salt))\n",
        "          for i in img.shape]\n",
        "out[tuple(coords)] = np.max(img)\n",
        "        \n",
        "# Pepper mode\n",
        "num_pepper = np.ceil(amount* img.size * (1. - s_vs_p))\n",
        "coords = [np.random.randint(0, i, int(num_pepper))\n",
        "          for i in img.shape]\n",
        "out[tuple(coords)] = np.min(img)\n",
        "\n",
        "print(img.dtype)\n",
        "#kernel = np.ones((3,3),np.uint8)        \n",
        "closing = cv2.morphologyEx(img, cv2.MORPH_CLOSE, kernel)\n",
        "\n",
        "plt.figure(figsize=(10,5))\n",
        "plt.subplot('121')\n",
        "plt.imshow(out,cmap='gray'), plt.axis('off')\n",
        "plt.subplot('122')\n",
        "plt.imshow(closing,cmap='gray'), plt.axis('off')"
      ],
      "execution_count": 0,
      "outputs": [
        {
          "output_type": "stream",
          "text": [
            "uint8\n"
          ],
          "name": "stdout"
        },
        {
          "output_type": "execute_result",
          "data": {
            "text/plain": [
              "(<matplotlib.image.AxesImage at 0x7f986e7e7e50>, (-0.5, 111.5, 149.5, -0.5))"
            ]
          },
          "metadata": {
            "tags": []
          },
          "execution_count": 49
        },
        {
          "output_type": "display_data",
          "data": {
            "image/png": "[encoded data removed]",
            "text/plain": [
              "<Figure size 720x360 with 2 Axes>"
            ]
          },
          "metadata": {
            "tags": [],
            "needs_background": "light"
          }
        }
      ]
    },
    {
      "cell_type": "markdown",
      "metadata": {
        "id": "mLy2JiJNlVt9",
        "colab_type": "text"
      },
      "source": [
        "## 5. Morphological Gradient\n",
        "\n",
        "It is the difference between dilation and erosion of an image.\n",
        "\n",
        "The result will look like the outline of the object."
      ]
    },
    {
      "cell_type": "code",
      "metadata": {
        "id": "_M7at3JtlVt-",
        "colab_type": "code",
        "colab": {},
        "outputId": "5e8aac9b-b437-440a-b046-e1322e281f42"
      },
      "source": [
        "gradient = cv2.morphologyEx(img, cv2.MORPH_GRADIENT, kernel)\n",
        "\n",
        "plt.figure(figsize=(10,5))\n",
        "plt.subplot('121')\n",
        "plt.imshow(img,cmap='gray'), plt.axis('off')\n",
        "plt.subplot('122')\n",
        "plt.imshow(gradient,cmap='gray'), plt.axis('off')"
      ],
      "execution_count": 0,
      "outputs": [
        {
          "output_type": "execute_result",
          "data": {
            "text/plain": [
              "(<matplotlib.image.AxesImage at 0x7f986e705f90>, (-0.5, 111.5, 149.5, -0.5))"
            ]
          },
          "metadata": {
            "tags": []
          },
          "execution_count": 50
        },
        {
          "output_type": "display_data",
          "data": {
            "image/png": "[encoded data removed]",
            "text/plain": [
              "<Figure size 720x360 with 2 Axes>"
            ]
          },
          "metadata": {
            "tags": [],
            "needs_background": "light"
          }
        }
      ]
    },
    {
      "cell_type": "markdown",
      "metadata": {
        "id": "0kG6CvJ3lVuA",
        "colab_type": "text"
      },
      "source": [
        "## 6. Top Hat\n",
        "\n",
        "It is the difference between input image and Opening of the image. \n",
        "\n",
        "Below example is done for a **9x9 kernel**."
      ]
    },
    {
      "cell_type": "code",
      "metadata": {
        "id": "CqIXsNLblVuB",
        "colab_type": "code",
        "colab": {},
        "outputId": "8e291961-8d90-497b-bb9e-75478cab81eb"
      },
      "source": [
        "kernel = np.ones((9,9),np.uint8)\n",
        "\n",
        "opening = cv2.morphologyEx(out, cv2.MORPH_OPEN, kernel)\n",
        "tophat = cv2.morphologyEx(img, cv2.MORPH_TOPHAT, kernel)#크기가 큰 것들만 살아남음\n",
        "\n",
        "plt.figure(figsize=(10,5))\n",
        "plt.subplot('131')\n",
        "plt.imshow(img,cmap='gray'), plt.axis('off')\n",
        "plt.subplot('132')\n",
        "plt.imshow(opening,cmap='gray'), plt.axis('off')\n",
        "plt.subplot('133')\n",
        "plt.imshow(tophat,cmap='gray'), plt.axis('off')"
      ],
      "execution_count": 0,
      "outputs": [
        {
          "output_type": "execute_result",
          "data": {
            "text/plain": [
              "(<matplotlib.image.AxesImage at 0x7f986e46dcd0>, (-0.5, 111.5, 149.5, -0.5))"
            ]
          },
          "metadata": {
            "tags": []
          },
          "execution_count": 53
        },
        {
          "output_type": "display_data",
          "data": {
            "image/png": "[encoded data removed]",
            "text/plain": [
              "<Figure size 720x360 with 3 Axes>"
            ]
          },
          "metadata": {
            "tags": [],
            "needs_background": "light"
          }
        }
      ]
    },
    {
      "cell_type": "markdown",
      "metadata": {
        "id": "1NkPSEvylVuF",
        "colab_type": "text"
      },
      "source": [
        "## 7. Black Hat\n",
        "\n",
        "It is the difference between the closing of the input image and input image.\n",
        "\n",
        "Below example is done for a **9x9 kernel**."
      ]
    },
    {
      "cell_type": "code",
      "metadata": {
        "id": "x7WY2FpOlVuG",
        "colab_type": "code",
        "colab": {},
        "outputId": "22677d24-827e-428e-bb77-5f6dae1b9922"
      },
      "source": [
        "kernel = np.ones((9,9),np.uint8)#커널을 늘려놨음.\n",
        "\n",
        "closing = cv2.morphologyEx(out, cv2.MORPH_CLOSE, kernel)\n",
        "blackhat = cv2.morphologyEx(img, cv2.MORPH_BLACKHAT, kernel)\n",
        "\n",
        "plt.figure(figsize=(10,5))\n",
        "plt.subplot('131')\n",
        "plt.imshow(img,cmap='gray'), plt.axis('off')\n",
        "plt.subplot('132')\n",
        "plt.imshow(closing,cmap='gray'), plt.axis('off')\n",
        "plt.subplot('133')\n",
        "plt.imshow(blackhat,cmap='gray'), plt.axis('off')"
      ],
      "execution_count": 0,
      "outputs": [
        {
          "output_type": "execute_result",
          "data": {
            "text/plain": [
              "(<matplotlib.image.AxesImage at 0x7f986e149d50>, (-0.5, 111.5, 149.5, -0.5))"
            ]
          },
          "metadata": {
            "tags": []
          },
          "execution_count": 55
        },
        {
          "output_type": "display_data",
          "data": {
            "image/png": "[encoded data removed]",
            "text/plain": [
              "<Figure size 720x360 with 3 Axes>"
            ]
          },
          "metadata": {
            "tags": [],
            "needs_background": "light"
          }
        }
      ]
    },
    {
      "cell_type": "markdown",
      "metadata": {
        "id": "ZF-TaJH_lVuI",
        "colab_type": "text"
      },
      "source": [
        "## Structuring Element\n",
        "\n",
        "We manually created a structuring elements in the previous examples with help of Numpy. It is rectangular shape. But in some cases, you may need elliptical/circular shaped kernels. So for this purpose, OpenCV has a function, cv2.getStructuringElement(). You just pass the shape and size of the kernel, you get the desired kernel."
      ]
    },
    {
      "cell_type": "code",
      "metadata": {
        "id": "7fROSY3glVuJ",
        "colab_type": "code",
        "colab": {},
        "outputId": "be2675f9-3012-44ec-963f-1307e7aa9b6b"
      },
      "source": [
        "# Rectangular Kernel\n",
        "kernel = cv2.getStructuringElement(cv2.MORPH_RECT,(5,5))\n",
        "print(kernel)"
      ],
      "execution_count": 0,
      "outputs": [
        {
          "output_type": "stream",
          "text": [
            "[[1 1 1 1 1]\n",
            " [1 1 1 1 1]\n",
            " [1 1 1 1 1]\n",
            " [1 1 1 1 1]\n",
            " [1 1 1 1 1]]\n"
          ],
          "name": "stdout"
        }
      ]
    },
    {
      "cell_type": "code",
      "metadata": {
        "id": "Ty9CA4Y7lVuT",
        "colab_type": "code",
        "colab": {
          "base_uri": "https://localhost:8080/",
          "height": 465
        },
        "outputId": "a52bb1a9-6c06-429f-9b7b-29b89db1b14a"
      },
      "source": [
        "# Elliptical Kernel\n",
        "kernel = cv2.getStructuringElement(cv2.MORPH_ELLIPSE,(15,10))\n",
        "print(kernel)\n",
        "plt.imshow(kernel, cmap='gray')"
      ],
      "execution_count": 38,
      "outputs": [
        {
          "output_type": "stream",
          "text": [
            "[[0 0 0 0 0 0 0 1 0 0 0 0 0 0 0]\n",
            " [0 0 0 1 1 1 1 1 1 1 1 1 0 0 0]\n",
            " [0 1 1 1 1 1 1 1 1 1 1 1 1 1 0]\n",
            " [0 1 1 1 1 1 1 1 1 1 1 1 1 1 0]\n",
            " [1 1 1 1 1 1 1 1 1 1 1 1 1 1 1]\n",
            " [1 1 1 1 1 1 1 1 1 1 1 1 1 1 1]\n",
            " [1 1 1 1 1 1 1 1 1 1 1 1 1 1 1]\n",
            " [0 1 1 1 1 1 1 1 1 1 1 1 1 1 0]\n",
            " [0 1 1 1 1 1 1 1 1 1 1 1 1 1 0]\n",
            " [0 0 0 1 1 1 1 1 1 1 1 1 0 0 0]]\n"
          ],
          "name": "stdout"
        },
        {
          "output_type": "execute_result",
          "data": {
            "text/plain": [
              "<matplotlib.image.AxesImage at 0x7f0300c059b0>"
            ]
          },
          "metadata": {
            "tags": []
          },
          "execution_count": 38
        },
        {
          "output_type": "display_data",
          "data": {
            "image/png": "[encoded data removed]",
            "text/plain": [
              "<Figure size 432x288 with 1 Axes>"
            ]
          },
          "metadata": {
            "tags": []
          }
        }
      ]
    },
    {
      "cell_type": "code",
      "metadata": {
        "id": "0nE2fTvWlVuV",
        "colab_type": "code",
        "colab": {},
        "outputId": "f81d95fd-012e-425a-dbc8-33f00cf7b4ea"
      },
      "source": [
        "# Cross-shaped Kernel\n",
        "kernel = cv2.getStructuringElement(cv2.MORPH_CROSS,(5,5))\n",
        "print(kernel)\n",
        "plt.imshow(kernel)"
      ],
      "execution_count": 0,
      "outputs": [
        {
          "output_type": "stream",
          "text": [
            "[[0 0 1 0 0]\n",
            " [0 0 1 0 0]\n",
            " [1 1 1 1 1]\n",
            " [0 0 1 0 0]\n",
            " [0 0 1 0 0]]\n"
          ],
          "name": "stdout"
        },
        {
          "output_type": "execute_result",
          "data": {
            "text/plain": [
              "<matplotlib.image.AxesImage at 0x7f986df9fb10>"
            ]
          },
          "metadata": {
            "tags": []
          },
          "execution_count": 67
        },
        {
          "output_type": "display_data",
          "data": {
            "image/png": "[encoded data removed]",
            "text/plain": [
              "<Figure size 432x288 with 1 Axes>"
            ]
          },
          "metadata": {
            "tags": [],
            "needs_background": "light"
          }
        }
      ]
    },
    {
      "cell_type": "markdown",
      "metadata": {
        "id": "pEGG6qOalVuX",
        "colab_type": "text"
      },
      "source": [
        "## Additional Resources\n",
        "\n",
        "1. [Morphological Operations](http://homepages.inf.ed.ac.uk/rbf/HIPR2/morops.htm) at HIPR2\n",
        "2. [Morphological Transformations](https://opencv-python-tutroals.readthedocs.io/en/latest/py_tutorials/py_imgproc/py_morphological_ops/py_morphological_ops.html#dilation) at OpenCV-Python Tutorials"
      ]
    },
    {
      "cell_type": "code",
      "metadata": {
        "id": "NASpzib5lVuY",
        "colab_type": "code",
        "colab": {}
      },
      "source": [
        ""
      ],
      "execution_count": 0,
      "outputs": []
    }
  ]
}