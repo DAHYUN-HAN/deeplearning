{
  "nbformat": 4,
  "nbformat_minor": 0,
  "metadata": {
    "colab": {
      "name": "CNN2.ipynb",
      "provenance": [],
      "include_colab_link": true
    },
    "kernelspec": {
      "name": "python3",
      "display_name": "Python 3"
    },
    "accelerator": "GPU"
  },
  "cells": [
    {
      "cell_type": "markdown",
      "metadata": {
        "id": "view-in-github",
        "colab_type": "text"
      },
      "source": [
        "<a href=\"https://colab.research.google.com/github/DAHYUN-HAN/deeplearning/blob/master/CNN2.ipynb\" target=\"_parent\"><img src=\"https://colab.research.google.com/assets/colab-badge.svg\" alt=\"Open In Colab\"/></a>"
      ]
    },
    {
      "cell_type": "code",
      "metadata": {
        "id": "XArS2yef362v",
        "colab_type": "code",
        "colab": {
          "base_uri": "https://localhost:8080/",
          "height": 52
        },
        "outputId": "18808840-1398-4b90-c5b6-d52c562a0fb8"
      },
      "source": [
        "import keras\n",
        "from keras.datasets import mnist\n",
        "\n",
        "(train_images, train_labels), (test_images, test_labels) = mnist.load_data()\n",
        "\n",
        "print(train_images.shape)\n",
        "print(test_images.shape)"
      ],
      "execution_count": 133,
      "outputs": [
        {
          "output_type": "stream",
          "text": [
            "(60000, 28, 28)\n",
            "(10000, 28, 28)\n"
          ],
          "name": "stdout"
        }
      ]
    },
    {
      "cell_type": "code",
      "metadata": {
        "id": "KIfC1Asy39s5",
        "colab_type": "code",
        "colab": {
          "base_uri": "https://localhost:8080/",
          "height": 87
        },
        "outputId": "1c279577-b44f-483b-c360-b60dc20abcc0"
      },
      "source": [
        "import numpy as np\n",
        "from sklearn.preprocessing import LabelEncoder\n",
        "\n",
        "newtest_images = np.load('test_data.npy')\n",
        "newtest_labels = np.load('test_label.npy')\n",
        "\n",
        "print(newtest_images.shape)\n",
        "print(newtest_labels.shape)\n",
        "print(newtest_labels[0])\n",
        "\n",
        "newtest_images = newtest_images.astype('float32')\n",
        "newtest_images = newtest_images.reshape((39, 28, 28))\n",
        "newtest_images = newtest_images.astype('float32')/255\n",
        "print(newtest_images.shape)"
      ],
      "execution_count": 134,
      "outputs": [
        {
          "output_type": "stream",
          "text": [
            "(39, 28, 28, 1)\n",
            "(39, 3)\n",
            "[1. 0. 0.]\n",
            "(39, 28, 28)\n"
          ],
          "name": "stdout"
        }
      ]
    },
    {
      "cell_type": "code",
      "metadata": {
        "id": "LHWHmuV7B8h4",
        "colab_type": "code",
        "colab": {
          "base_uri": "https://localhost:8080/",
          "height": 286
        },
        "outputId": "5d243044-67b9-429c-c346-d248804d5dd7"
      },
      "source": [
        "import matplotlib.pyplot as plt\n",
        "ndigit = newtest_images[5]\n",
        "\n",
        "plt.imshow(ndigit, cmap=plt.cm.binary)\n",
        "plt.show()\n",
        "\n",
        "print(newtest_labels[5])"
      ],
      "execution_count": 135,
      "outputs": [
        {
          "output_type": "display_data",
          "data": {
            "image/png": "[encoded data removed]",
            "text/plain": [
              "<Figure size 432x288 with 1 Axes>"
            ]
          },
          "metadata": {
            "tags": []
          }
        },
        {
          "output_type": "stream",
          "text": [
            "[0. 0. 1.]\n"
          ],
          "name": "stdout"
        }
      ]
    },
    {
      "cell_type": "code",
      "metadata": {
        "id": "VsVZTgluOKn9",
        "colab_type": "code",
        "colab": {
          "base_uri": "https://localhost:8080/",
          "height": 72
        },
        "outputId": "c1b31edc-5c08-4352-8ee3-ef888a45487f"
      },
      "source": [
        "from keras.utils import to_categorical\n",
        "newtest_images = newtest_images.reshape((39, 28, 28, 1))\n",
        "c = 39\n",
        "i=0\n",
        "newtest_newlabels = [0]*40\n",
        "while c:\n",
        "  if(newtest_labels[i][0]==1.0):\n",
        "    newtest_newlabels[i]=3\n",
        "  elif(newtest_labels[i][1]==1.0):\n",
        "    newtest_newlabels[i]=6\n",
        "  elif(newtest_labels[i][2]==1.0):\n",
        "    newtest_newlabels[i]=8\n",
        "  c-=1\n",
        "  i+=1\n",
        "    \n",
        "newtest_newlabels[39] = 9\n",
        "newtest_newlabels = to_categorical(newtest_newlabels)\n",
        "newtest_newlabels=np.delete(newtest_newlabels,[39,40],axis=0) \n",
        "\n",
        "print(newtest_newlabels.shape)"
      ],
      "execution_count": 136,
      "outputs": [
        {
          "output_type": "stream",
          "text": [
            "(39, 10)\n"
          ],
          "name": "stdout"
        },
        {
          "output_type": "stream",
          "text": [
            "/usr/local/lib/python3.6/dist-packages/ipykernel_launcher.py:18: DeprecationWarning: in the future out of bounds indices will raise an error instead of being ignored by `numpy.delete`.\n"
          ],
          "name": "stderr"
        }
      ]
    },
    {
      "cell_type": "code",
      "metadata": {
        "id": "i4NkKKqY4PFP",
        "colab_type": "code",
        "colab": {
          "base_uri": "https://localhost:8080/",
          "height": 52
        },
        "outputId": "c762d45b-6726-4abd-a58a-c4c4fff02089"
      },
      "source": [
        "from keras.datasets import mnist\n",
        "from keras.utils import to_categorical\n",
        "\n",
        "(train_images, train_labels), (test_images, test_labels) = mnist.load_data()\n",
        "\n",
        "train_images = train_images.reshape((60000, 28, 28, 1))\n",
        "train_images = 1-(train_images.astype('float32')/255)\n",
        "\n",
        "test_images = test_images.reshape((10000, 28, 28, 1))\n",
        "test_images = 1-(test_images.astype('float32')/255)\n",
        "\n",
        "train_labels = to_categorical(train_labels)\n",
        "test_labels = to_categorical(test_labels)\n",
        "\n",
        "print(test_labels.shape)\n",
        "print(test_labels[0])"
      ],
      "execution_count": 137,
      "outputs": [
        {
          "output_type": "stream",
          "text": [
            "(10000, 10)\n",
            "[0. 0. 0. 0. 0. 0. 0. 1. 0. 0.]\n"
          ],
          "name": "stdout"
        }
      ]
    },
    {
      "cell_type": "code",
      "metadata": {
        "id": "EXF_RZMQxqFY",
        "colab_type": "code",
        "colab": {}
      },
      "source": [
        "from skimage.filters import gaussian\n",
        "from skimage.util import random_noise\n",
        "import random\n",
        "\n",
        "def randRange(a, b):\n",
        "    return np.random.rand() * (b - a) + a\n",
        "\n",
        "def randomGaussian(im):\n",
        "    return gaussian(im, sigma=randRange(0, 1))\n",
        "\n",
        "def randomNoise(im):\n",
        "    var = randRange(0.001, 0.013)\n",
        "    return random_noise(im, var=var)\n",
        "\n",
        "def randomRescale(im):\n",
        "  r1 = randRange(0.1,0.5)\n",
        "  r2 = randRange(0.1,0.4)\n",
        "  im1 = (im == 1) * r1\n",
        "  im2 = (im < 0.5) * (im+r2)\n",
        "  im = im1 + im2\n",
        "  return im\n",
        "\n",
        "def randomRescale2(im):\n",
        "  r=randRange(0.5,0.8)\n",
        "  im = im+(1-im)*r\n",
        "  return im\n",
        "\n",
        "def augment(im, Steps= [randomGaussian, randomNoise, randomRescale, randomRescale2]):\n",
        "    i= np.random.randint(4)\n",
        "    step = Steps[i]\n",
        "    im = step(im)\n",
        "    return im"
      ],
      "execution_count": 0,
      "outputs": []
    },
    {
      "cell_type": "code",
      "metadata": {
        "id": "jPdIWeWt4bSS",
        "colab_type": "code",
        "colab": {
          "base_uri": "https://localhost:8080/",
          "height": 1000
        },
        "outputId": "532d8abe-9bd3-4ec6-d0d0-9e2c398afc5f"
      },
      "source": [
        "from keras import layers\n",
        "from keras import models\n",
        "\n",
        "model = models.Sequential()\n",
        "model.add(layers.Conv2D(32, (3, 3), activation='relu', input_shape=(28, 28, 1)))\n",
        "model.add(layers.MaxPooling2D((2, 2)))\n",
        "model.add(layers.Conv2D(64, (3, 3), activation='relu'))\n",
        "model.add(layers.MaxPooling2D((2, 2)))\n",
        "model.add(layers.Conv2D(64, (3, 3), activation='relu'))\n",
        "\n",
        "model.add(layers.Flatten())\n",
        "model.add(layers.Dense(64, activation='relu'))\n",
        "model.add(layers.Dense(10, activation='softmax'))\n",
        "\n",
        "model.summary()\n",
        "\n",
        "# 데이터 제너레이터\n",
        "\n",
        "from keras.preprocessing.image import ImageDataGenerator \n",
        "    \n",
        "train_datagen = ImageDataGenerator(\n",
        "    rotation_range=20,\n",
        "    width_shift_range=0.2,\n",
        "    height_shift_range=0.2,\n",
        "    shear_range=0.2,\n",
        "    fill_mode='reflect',\n",
        "    preprocessing_function=augment,\n",
        "    zoom_range=0.5)\n",
        "\n",
        "model.compile(optimizer='rmsprop',\n",
        "              loss='categorical_crossentropy',\n",
        "              metrics=['accuracy'])\n",
        "\n",
        "history = model.fit_generator(train_datagen.flow(train_images, train_labels, batch_size=256),\n",
        "                    steps_per_epoch=512, epochs=24, validation_data=(newtest_images,newtest_newlabels))"
      ],
      "execution_count": 139,
      "outputs": [
        {
          "output_type": "stream",
          "text": [
            "Model: \"sequential_12\"\n",
            "_________________________________________________________________\n",
            "Layer (type)                 Output Shape              Param #   \n",
            "=================================================================\n",
            "conv2d_34 (Conv2D)           (None, 26, 26, 32)        320       \n",
            "_________________________________________________________________\n",
            "max_pooling2d_23 (MaxPooling (None, 13, 13, 32)        0         \n",
            "_________________________________________________________________\n",
            "conv2d_35 (Conv2D)           (None, 11, 11, 64)        18496     \n",
            "_________________________________________________________________\n",
            "max_pooling2d_24 (MaxPooling (None, 5, 5, 64)          0         \n",
            "_________________________________________________________________\n",
            "conv2d_36 (Conv2D)           (None, 3, 3, 64)          36928     \n",
            "_________________________________________________________________\n",
            "flatten_12 (Flatten)         (None, 576)               0         \n",
            "_________________________________________________________________\n",
            "dense_23 (Dense)             (None, 64)                36928     \n",
            "_________________________________________________________________\n",
            "dense_24 (Dense)             (None, 10)                650       \n",
            "=================================================================\n",
            "Total params: 93,322\n",
            "Trainable params: 93,322\n",
            "Non-trainable params: 0\n",
            "_________________________________________________________________\n",
            "Epoch 1/24\n",
            "512/512 [==============================] - 59s 116ms/step - loss: 1.6044 - acc: 0.4569 - val_loss: 1.6953 - val_acc: 0.4615\n",
            "Epoch 2/24\n",
            "512/512 [==============================] - 57s 112ms/step - loss: 0.9575 - acc: 0.6981 - val_loss: 1.1186 - val_acc: 0.5897\n",
            "Epoch 3/24\n",
            "512/512 [==============================] - 57s 112ms/step - loss: 0.6982 - acc: 0.7806 - val_loss: 0.9986 - val_acc: 0.6667\n",
            "Epoch 4/24\n",
            "512/512 [==============================] - 57s 111ms/step - loss: 0.5676 - acc: 0.8221 - val_loss: 1.5062 - val_acc: 0.5641\n",
            "Epoch 5/24\n",
            "512/512 [==============================] - 58s 114ms/step - loss: 0.4765 - acc: 0.8500 - val_loss: 0.8208 - val_acc: 0.6923\n",
            "Epoch 6/24\n",
            "512/512 [==============================] - 58s 114ms/step - loss: 0.4182 - acc: 0.8679 - val_loss: 1.1322 - val_acc: 0.6667\n",
            "Epoch 7/24\n",
            "512/512 [==============================] - 58s 114ms/step - loss: 0.3850 - acc: 0.8782 - val_loss: 0.8347 - val_acc: 0.7179\n",
            "Epoch 8/24\n",
            "512/512 [==============================] - 58s 114ms/step - loss: 0.3570 - acc: 0.8872 - val_loss: 0.9476 - val_acc: 0.6923\n",
            "Epoch 9/24\n",
            "512/512 [==============================] - 57s 112ms/step - loss: 0.3340 - acc: 0.8946 - val_loss: 0.6279 - val_acc: 0.7692\n",
            "Epoch 10/24\n",
            "512/512 [==============================] - 56s 110ms/step - loss: 0.3154 - acc: 0.9011 - val_loss: 0.5096 - val_acc: 0.7949\n",
            "Epoch 11/24\n",
            "512/512 [==============================] - 57s 112ms/step - loss: 0.3026 - acc: 0.9049 - val_loss: 0.7339 - val_acc: 0.7949\n",
            "Epoch 12/24\n",
            "512/512 [==============================] - 59s 114ms/step - loss: 0.2897 - acc: 0.9090 - val_loss: 0.7697 - val_acc: 0.7692\n",
            "Epoch 13/24\n",
            "512/512 [==============================] - 58s 114ms/step - loss: 0.2754 - acc: 0.9127 - val_loss: 0.7381 - val_acc: 0.7436\n",
            "Epoch 14/24\n",
            "512/512 [==============================] - 58s 114ms/step - loss: 0.2710 - acc: 0.9149 - val_loss: 0.7014 - val_acc: 0.8205\n",
            "Epoch 15/24\n",
            "512/512 [==============================] - 59s 115ms/step - loss: 0.2628 - acc: 0.9180 - val_loss: 0.6829 - val_acc: 0.8205\n",
            "Epoch 16/24\n",
            "512/512 [==============================] - 59s 115ms/step - loss: 0.2552 - acc: 0.9198 - val_loss: 0.6768 - val_acc: 0.7436\n",
            "Epoch 17/24\n",
            "512/512 [==============================] - 59s 115ms/step - loss: 0.2469 - acc: 0.9223 - val_loss: 0.5895 - val_acc: 0.7949\n",
            "Epoch 18/24\n",
            "512/512 [==============================] - 57s 112ms/step - loss: 0.2437 - acc: 0.9236 - val_loss: 1.0346 - val_acc: 0.7949\n",
            "Epoch 19/24\n",
            "512/512 [==============================] - 58s 112ms/step - loss: 0.2383 - acc: 0.9244 - val_loss: 0.9417 - val_acc: 0.7692\n",
            "Epoch 20/24\n",
            "512/512 [==============================] - 59s 115ms/step - loss: 0.2338 - acc: 0.9255 - val_loss: 0.9242 - val_acc: 0.6667\n",
            "Epoch 21/24\n",
            "512/512 [==============================] - 57s 111ms/step - loss: 0.2304 - acc: 0.9271 - val_loss: 0.9245 - val_acc: 0.7436\n",
            "Epoch 22/24\n",
            "512/512 [==============================] - 58s 113ms/step - loss: 0.2267 - acc: 0.9295 - val_loss: 0.6553 - val_acc: 0.7949\n",
            "Epoch 23/24\n",
            "512/512 [==============================] - 58s 113ms/step - loss: 0.2231 - acc: 0.9298 - val_loss: 0.6117 - val_acc: 0.7949\n",
            "Epoch 24/24\n",
            "512/512 [==============================] - 58s 114ms/step - loss: 0.2192 - acc: 0.9307 - val_loss: 0.5122 - val_acc: 0.8205\n"
          ],
          "name": "stdout"
        }
      ]
    },
    {
      "cell_type": "code",
      "metadata": {
        "id": "xusZZy2L9s9M",
        "colab_type": "code",
        "colab": {}
      },
      "source": [
        "model.save('mnist_ver9.h5')"
      ],
      "execution_count": 0,
      "outputs": []
    },
    {
      "cell_type": "code",
      "metadata": {
        "id": "C2BUqX2i8fXF",
        "colab_type": "code",
        "colab": {
          "base_uri": "https://localhost:8080/",
          "height": 52
        },
        "outputId": "6d5e6833-9e2b-4d2f-8a96-186eec8122fa"
      },
      "source": [
        "test_loss, test_acc = model.evaluate(test_images, test_labels)\n",
        "test_acc"
      ],
      "execution_count": 141,
      "outputs": [
        {
          "output_type": "stream",
          "text": [
            "10000/10000 [==============================] - 1s 91us/step\n"
          ],
          "name": "stdout"
        },
        {
          "output_type": "execute_result",
          "data": {
            "text/plain": [
              "0.9874"
            ]
          },
          "metadata": {
            "tags": []
          },
          "execution_count": 141
        }
      ]
    },
    {
      "cell_type": "code",
      "metadata": {
        "id": "5Y1TbP-v_pk_",
        "colab_type": "code",
        "colab": {
          "base_uri": "https://localhost:8080/",
          "height": 52
        },
        "outputId": "f83c33aa-ffaa-45fa-a35d-15d937bd4855"
      },
      "source": [
        "test_loss, test_acc = model.evaluate(newtest_images, newtest_newlabels)\n",
        "test_acc"
      ],
      "execution_count": 142,
      "outputs": [
        {
          "output_type": "stream",
          "text": [
            "39/39 [==============================] - 0s 320us/step\n"
          ],
          "name": "stdout"
        },
        {
          "output_type": "execute_result",
          "data": {
            "text/plain": [
              "0.8205128220411447"
            ]
          },
          "metadata": {
            "tags": []
          },
          "execution_count": 142
        }
      ]
    },
    {
      "cell_type": "code",
      "metadata": {
        "id": "H26gBguXQhUq",
        "colab_type": "code",
        "colab": {
          "base_uri": "https://localhost:8080/",
          "height": 204
        },
        "outputId": "6171307d-f97f-4084-fc37-e543e6707db9"
      },
      "source": [
        "import random\n",
        "import matplotlib.pyplot as plt\n",
        "\n",
        "predicted_result = model.predict(newtest_images)\n",
        "predicted_labels = np.argmax(predicted_result, axis=1)\n",
        "\n",
        "test_labels = np.argmax(newtest_newlabels, axis=1)\n",
        "\n",
        "wrong_result = []\n",
        "count=0\n",
        "\n",
        "for n in range(0, len(test_labels)):\n",
        "    if predicted_labels[n] != test_labels[n]:\n",
        "      count=count+1\n",
        "      wrong_result.append(n)\n",
        "      \n",
        "print(\"count=\",count)\n",
        "\n",
        "count = 0\n",
        "nrows = 7\n",
        "ncols = 4\n",
        "\n",
        "plt.figure(figsize=(12,8))\n",
        "\n",
        "for n in wrong_result:\n",
        "    count += 1\n",
        "    plt.subplot(nrows, ncols, count)\n",
        "    plt.imshow(newtest_images[n].reshape(28, 28), cmap='Greys', interpolation='nearest')\n",
        "    tmp = \"Label:\" + str(test_labels[n]) + \", Prediction:\" + str(predicted_labels[n]) + \", n:\",n\n",
        "    plt.title(tmp)\n",
        "\n",
        "plt.tight_layout()\n",
        "plt.show()"
      ],
      "execution_count": 143,
      "outputs": [
        {
          "output_type": "stream",
          "text": [
            "count= 7\n"
          ],
          "name": "stdout"
        },
        {
          "output_type": "display_data",
          "data": {
            "image/png": "[encoded data removed]",
            "text/plain": [
              "<Figure size 864x576 with 7 Axes>"
            ]
          },
          "metadata": {
            "tags": []
          }
        }
      ]
    },
    {
      "cell_type": "code",
      "metadata": {
        "id": "81ovtPRhNJd_",
        "colab_type": "code",
        "colab": {}
      },
      "source": [
        ""
      ],
      "execution_count": 0,
      "outputs": []
    },
    {
      "cell_type": "code",
      "metadata": {
        "id": "7rk1QOo2Bn_B",
        "colab_type": "code",
        "colab": {}
      },
      "source": [
        ""
      ],
      "execution_count": 0,
      "outputs": []
    }
  ]
}