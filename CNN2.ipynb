{
  "nbformat": 4,
  "nbformat_minor": 0,
  "metadata": {
    "colab": {
      "name": "CNN2.ipynb",
      "provenance": [],
      "include_colab_link": true
    },
    "kernelspec": {
      "name": "python3",
      "display_name": "Python 3"
    }
  },
  "cells": [
    {
      "cell_type": "markdown",
      "metadata": {
        "id": "view-in-github",
        "colab_type": "text"
      },
      "source": [
        "<a href=\"https://colab.research.google.com/github/DAHYUN-HAN/deeplearning/blob/master/CNN2.ipynb\" target=\"_parent\"><img src=\"https://colab.research.google.com/assets/colab-badge.svg\" alt=\"Open In Colab\"/></a>"
      ]
    },
    {
      "cell_type": "code",
      "metadata": {
        "id": "XArS2yef362v",
        "colab_type": "code",
        "colab": {
          "base_uri": "https://localhost:8080/",
          "height": 52
        },
        "outputId": "d73a96bf-ac17-4aa4-af0a-f8fa4dcddab3"
      },
      "source": [
        "import keras\n",
        "from keras.datasets import mnist\n",
        "\n",
        "(train_images, train_labels), (test_images, test_labels) = mnist.load_data()\n",
        "\n",
        "print(train_images.shape)\n",
        "print(test_images.shape)"
      ],
      "execution_count": 73,
      "outputs": [
        {
          "output_type": "stream",
          "text": [
            "(60000, 28, 28)\n",
            "(10000, 28, 28)\n"
          ],
          "name": "stdout"
        }
      ]
    },
    {
      "cell_type": "code",
      "metadata": {
        "id": "KIfC1Asy39s5",
        "colab_type": "code",
        "colab": {
          "base_uri": "https://localhost:8080/",
          "height": 87
        },
        "outputId": "343c0c52-5c79-4967-c128-91497806f432"
      },
      "source": [
        "import numpy as np\n",
        "from sklearn.preprocessing import LabelEncoder\n",
        "\n",
        "newtest_images = np.load('test_data.npy')\n",
        "newtest_labels = np.load('test_label.npy')\n",
        "\n",
        "print(newtest_images.shape)\n",
        "print(newtest_labels.shape)\n",
        "print(newtest_labels[0])\n",
        "\n",
        "newtest_images = newtest_images.astype('float32')\n",
        "newtest_images = newtest_images.reshape((39, 28, 28))\n",
        "newtest_images = newtest_images.astype('float32')/255\n",
        "print(newtest_images.shape)"
      ],
      "execution_count": 87,
      "outputs": [
        {
          "output_type": "stream",
          "text": [
            "(39, 28, 28, 1)\n",
            "(39, 3)\n",
            "[1. 0. 0.]\n",
            "(39, 28, 28)\n"
          ],
          "name": "stdout"
        }
      ]
    },
    {
      "cell_type": "code",
      "metadata": {
        "id": "LHWHmuV7B8h4",
        "colab_type": "code",
        "colab": {
          "base_uri": "https://localhost:8080/",
          "height": 286
        },
        "outputId": "0c332d59-cfc9-49b1-e357-0afae61fbfcf"
      },
      "source": [
        "import matplotlib.pyplot as plt\n",
        "ndigit = newtest_images[5]\n",
        "\n",
        "plt.imshow(ndigit, cmap=plt.cm.binary)\n",
        "plt.show()\n",
        "\n",
        "print(newtest_labels[5])"
      ],
      "execution_count": 76,
      "outputs": [
        {
          "output_type": "display_data",
          "data": {
            "image/png": "[encoded data removed]",
            "text/plain": [
              "<Figure size 432x288 with 1 Axes>"
            ]
          },
          "metadata": {
            "tags": []
          }
        },
        {
          "output_type": "stream",
          "text": [
            "[0. 0. 1.]\n"
          ],
          "name": "stdout"
        }
      ]
    },
    {
      "cell_type": "code",
      "metadata": {
        "id": "VsVZTgluOKn9",
        "colab_type": "code",
        "colab": {
          "base_uri": "https://localhost:8080/",
          "height": 72
        },
        "outputId": "fe83ee80-9e09-4368-a64b-aea07dab802d"
      },
      "source": [
        "from keras.utils import to_categorical\n",
        "newtest_images = newtest_images.reshape((39, 28, 28, 1))\n",
        "c = 39\n",
        "i=0\n",
        "newtest_newlabels = [0]*40\n",
        "while c:\n",
        "  if(newtest_labels[i][0]==1.0):\n",
        "    newtest_newlabels[i]=3\n",
        "  elif(newtest_labels[i][1]==1.0):\n",
        "    newtest_newlabels[i]=6\n",
        "  elif(newtest_labels[i][2]==1.0):\n",
        "    newtest_newlabels[i]=8\n",
        "  c-=1\n",
        "  i+=1\n",
        "    \n",
        "newtest_newlabels[39] = 9\n",
        "newtest_newlabels = to_categorical(newtest_newlabels)\n",
        "newtest_newlabels=np.delete(newtest_newlabels,[39,40],axis=0) \n",
        "\n",
        "print(newtest_newlabels.shape)"
      ],
      "execution_count": 88,
      "outputs": [
        {
          "output_type": "stream",
          "text": [
            "(39, 10)\n"
          ],
          "name": "stdout"
        },
        {
          "output_type": "stream",
          "text": [
            "/usr/local/lib/python3.6/dist-packages/ipykernel_launcher.py:18: DeprecationWarning: in the future out of bounds indices will raise an error instead of being ignored by `numpy.delete`.\n"
          ],
          "name": "stderr"
        }
      ]
    },
    {
      "cell_type": "code",
      "metadata": {
        "id": "i4NkKKqY4PFP",
        "colab_type": "code",
        "colab": {
          "base_uri": "https://localhost:8080/",
          "height": 52
        },
        "outputId": "43cf11e1-3bac-4ecb-9fe3-fa3002a3e889"
      },
      "source": [
        "from keras.datasets import mnist\n",
        "from keras.utils import to_categorical\n",
        "\n",
        "(train_images, train_labels), (test_images, test_labels) = mnist.load_data()\n",
        "\n",
        "train_images = train_images.reshape((60000, 28, 28, 1))\n",
        "train_images = 1-(train_images.astype('float32')/255)\n",
        "\n",
        "test_images = test_images.reshape((10000, 28, 28, 1))\n",
        "test_images = 1-(test_images.astype('float32')/255)\n",
        "\n",
        "train_labels = to_categorical(train_labels)\n",
        "test_labels = to_categorical(test_labels)\n",
        "\n",
        "print(test_labels.shape)\n",
        "print(test_labels[0])"
      ],
      "execution_count": 91,
      "outputs": [
        {
          "output_type": "stream",
          "text": [
            "(10000, 10)\n",
            "[0. 0. 0. 0. 0. 0. 0. 1. 0. 0.]\n"
          ],
          "name": "stdout"
        }
      ]
    },
    {
      "cell_type": "code",
      "metadata": {
        "id": "jPdIWeWt4bSS",
        "colab_type": "code",
        "colab": {
          "base_uri": "https://localhost:8080/",
          "height": 791
        },
        "outputId": "76fb3458-9a38-4422-d693-67cfd64b6c01"
      },
      "source": [
        "from keras import layers\n",
        "from keras import models\n",
        "\n",
        "model = models.Sequential()\n",
        "model.add(layers.Conv2D(32, (3, 3), activation='relu', input_shape=(28, 28, 1)))\n",
        "model.add(layers.MaxPooling2D((2, 2)))\n",
        "model.add(layers.Conv2D(64, (3, 3), activation='relu'))\n",
        "model.add(layers.MaxPooling2D((2, 2)))\n",
        "model.add(layers.Conv2D(64, (3, 3), activation='relu'))\n",
        "\n",
        "model.add(layers.Flatten())\n",
        "model.add(layers.Dense(64, activation='relu'))\n",
        "model.add(layers.Dense(10, activation='softmax'))\n",
        "\n",
        "model.summary()\n",
        "\n",
        "# 데이터 제너레이터\n",
        "\n",
        "from keras.preprocessing.image import ImageDataGenerator \n",
        "    \n",
        "train_datagen = ImageDataGenerator(\n",
        " #   rescale=1-(1./255),\n",
        "    rotation_range=40,\n",
        "    width_shift_range=0.2,\n",
        "    height_shift_range=0.2,\n",
        "    shear_range=0.2,\n",
        "    zoom_range=0.2)\n",
        "\n",
        "model.compile(optimizer='rmsprop',\n",
        "              loss='categorical_crossentropy',\n",
        "              metrics=['accuracy'])\n",
        "\n",
        "#train_datagen.fit(train_images)\n",
        "\n",
        "history = model.fit_generator(train_datagen.flow(train_images, train_labels, batch_size=128),\n",
        "                    steps_per_epoch=512, epochs=10)"
      ],
      "execution_count": 81,
      "outputs": [
        {
          "output_type": "stream",
          "text": [
            "Model: \"sequential_6\"\n",
            "_________________________________________________________________\n",
            "Layer (type)                 Output Shape              Param #   \n",
            "=================================================================\n",
            "conv2d_16 (Conv2D)           (None, 26, 26, 32)        320       \n",
            "_________________________________________________________________\n",
            "max_pooling2d_11 (MaxPooling (None, 13, 13, 32)        0         \n",
            "_________________________________________________________________\n",
            "conv2d_17 (Conv2D)           (None, 11, 11, 64)        18496     \n",
            "_________________________________________________________________\n",
            "max_pooling2d_12 (MaxPooling (None, 5, 5, 64)          0         \n",
            "_________________________________________________________________\n",
            "conv2d_18 (Conv2D)           (None, 3, 3, 64)          36928     \n",
            "_________________________________________________________________\n",
            "flatten_6 (Flatten)          (None, 576)               0         \n",
            "_________________________________________________________________\n",
            "dense_11 (Dense)             (None, 64)                36928     \n",
            "_________________________________________________________________\n",
            "dense_12 (Dense)             (None, 10)                650       \n",
            "=================================================================\n",
            "Total params: 93,322\n",
            "Trainable params: 93,322\n",
            "Non-trainable params: 0\n",
            "_________________________________________________________________\n",
            "Epoch 1/10\n",
            "512/512 [==============================] - 66s 129ms/step - loss: 1.3043 - acc: 0.5579\n",
            "Epoch 2/10\n",
            "512/512 [==============================] - 65s 128ms/step - loss: 0.5330 - acc: 0.8291\n",
            "Epoch 3/10\n",
            "512/512 [==============================] - 66s 128ms/step - loss: 0.3447 - acc: 0.8910\n",
            "Epoch 4/10\n",
            "512/512 [==============================] - 65s 128ms/step - loss: 0.2659 - acc: 0.9160\n",
            "Epoch 5/10\n",
            "512/512 [==============================] - 65s 128ms/step - loss: 0.2238 - acc: 0.9297\n",
            "Epoch 6/10\n",
            "512/512 [==============================] - 66s 129ms/step - loss: 0.1935 - acc: 0.9392\n",
            "Epoch 7/10\n",
            "512/512 [==============================] - 66s 128ms/step - loss: 0.1773 - acc: 0.9449\n",
            "Epoch 8/10\n",
            "512/512 [==============================] - 65s 127ms/step - loss: 0.1611 - acc: 0.9509\n",
            "Epoch 9/10\n",
            "512/512 [==============================] - 65s 128ms/step - loss: 0.1475 - acc: 0.9545\n",
            "Epoch 10/10\n",
            "512/512 [==============================] - 65s 128ms/step - loss: 0.1406 - acc: 0.9566\n"
          ],
          "name": "stdout"
        }
      ]
    },
    {
      "cell_type": "code",
      "metadata": {
        "id": "xusZZy2L9s9M",
        "colab_type": "code",
        "colab": {}
      },
      "source": [
        "model.save('mnist_ver4.h5')"
      ],
      "execution_count": 0,
      "outputs": []
    },
    {
      "cell_type": "code",
      "metadata": {
        "id": "C2BUqX2i8fXF",
        "colab_type": "code",
        "colab": {
          "base_uri": "https://localhost:8080/",
          "height": 52
        },
        "outputId": "3af64cc7-b82b-458b-beb4-3d51879631b2"
      },
      "source": [
        "test_loss, test_acc = model.evaluate(test_images, test_labels)\n",
        "test_acc"
      ],
      "execution_count": 84,
      "outputs": [
        {
          "output_type": "stream",
          "text": [
            "10000/10000 [==============================] - 3s 268us/step\n"
          ],
          "name": "stdout"
        },
        {
          "output_type": "execute_result",
          "data": {
            "text/plain": [
              "0.9725"
            ]
          },
          "metadata": {
            "tags": []
          },
          "execution_count": 84
        }
      ]
    },
    {
      "cell_type": "code",
      "metadata": {
        "id": "5Y1TbP-v_pk_",
        "colab_type": "code",
        "colab": {
          "base_uri": "https://localhost:8080/",
          "height": 52
        },
        "outputId": "300aa086-9194-4726-b0f4-81f06da20f79"
      },
      "source": [
        "test_loss, test_acc = model.evaluate(newtest_images, newtest_newlabels)\n",
        "test_acc"
      ],
      "execution_count": 89,
      "outputs": [
        {
          "output_type": "stream",
          "text": [
            "39/39 [==============================] - 0s 643us/step\n"
          ],
          "name": "stdout"
        },
        {
          "output_type": "execute_result",
          "data": {
            "text/plain": [
              "0.5384615392257006"
            ]
          },
          "metadata": {
            "tags": []
          },
          "execution_count": 89
        }
      ]
    },
    {
      "cell_type": "code",
      "metadata": {
        "id": "H26gBguXQhUq",
        "colab_type": "code",
        "colab": {
          "base_uri": "https://localhost:8080/",
          "height": 602
        },
        "outputId": "31bdb3ff-46be-42b4-ae6f-ac4a9390321a"
      },
      "source": [
        "import random\n",
        "import matplotlib.pyplot as plt\n",
        "\n",
        "predicted_result = model.predict(newtest_images)\n",
        "predicted_labels = np.argmax(predicted_result, axis=1)\n",
        "\n",
        "test_labels = np.argmax(newtest_newlabels, axis=1)\n",
        "\n",
        "wrong_result = []\n",
        "count=0\n",
        "\n",
        "for n in range(0, len(test_labels)):\n",
        "    if predicted_labels[n] != test_labels[n]:\n",
        "      count=count+1\n",
        "      wrong_result.append(n)\n",
        "      \n",
        "print(\"count=\",count)\n",
        "\n",
        "samples = random.choices(population=wrong_result, k=16)\n",
        "\n",
        "count = 0\n",
        "nrows = ncols = 4\n",
        "\n",
        "plt.figure(figsize=(12,8))\n",
        "\n",
        "for n in samples:\n",
        "    count += 1\n",
        "    plt.subplot(nrows, ncols, count)\n",
        "    plt.imshow(newtest_images[n].reshape(28, 28), cmap='Greys', interpolation='nearest')\n",
        "    tmp = \"Label:\" + str(test_labels[n]) + \", Prediction:\" + str(predicted_labels[n]) + \", n:\",n\n",
        "    plt.title(tmp)\n",
        "\n",
        "plt.tight_layout()\n",
        "plt.show()"
      ],
      "execution_count": 90,
      "outputs": [
        {
          "output_type": "stream",
          "text": [
            "count= 18\n"
          ],
          "name": "stdout"
        },
        {
          "output_type": "display_data",
          "data": {
            "image/png": "[encoded data removed]",
            "text/plain": [
              "<Figure size 864x576 with 16 Axes>"
            ]
          },
          "metadata": {
            "tags": []
          }
        }
      ]
    }
  ]
}